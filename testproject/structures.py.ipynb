{
 "cells": [
  {
   "cell_type": "markdown",
   "metadata": {},
   "source": [
    "# This shows how to define and use custom structures for pyagb / pymap"
   ]
  },
  {
   "cell_type": "code",
   "execution_count": 1,
   "metadata": {},
   "outputs": [],
   "source": [
    "import agb.agbrom\n",
    "import agb.types\n",
    "import agb.structure\n",
    "import pymap.project"
   ]
  },
  {
   "cell_type": "markdown",
   "metadata": {},
   "source": [
    "First write a script that we can refer in the projects configuration. This script defines new types that pymap will use."
   ]
  },
  {
   "cell_type": "code",
   "execution_count": 2,
   "metadata": {},
   "outputs": [],
   "source": [
    "typedefscript = \"\"\"\n",
    "# Import the types and structure module\n",
    "import agb.types\n",
    "import agb.structure\n",
    "\n",
    "# Define an array of four u16 values\n",
    "def size_getter(rom, offset, parent, project):\n",
    "    return 4 # The array has a constant size of four\n",
    "\n",
    "my_array_type = agb.types.make_array(agb.types.types['u16'], size_getter)\n",
    "\n",
    "# Register the new array type\n",
    "agb.types.types['u16array[4]'] = my_array_type\n",
    "\n",
    "# Define a structure type that uses the array type\n",
    "my_struct_type = agb.types.make_structure([\n",
    "    ('member_array', )\n",
    "])\n",
    "\n",
    "\n",
    "\"\"\"\n",
    "\n",
    "with open('typedef.py', 'w+') as f:\n",
    "    f.write(typedefscript)"
   ]
  },
  {
   "cell_type": "markdown",
   "metadata": {},
   "source": [
    "In our projects file we list each typedef python script under the \"types\" key. For the example project only the recently created typedef.py is listed. Now the project can be instanciated."
   ]
  },
  {
   "cell_type": "code",
   "execution_count": 7,
   "metadata": {},
   "outputs": [
    {
     "data": {
      "text/plain": [
       "{'u8': (<function agb.types.<lambda>(rom, offset, parent, proj)>,\n",
       "  <function agb.types.<lambda>(value)>),\n",
       " 's8': (<function agb.types.<lambda>(rom, offset, parent, proj)>,\n",
       "  <function agb.types.<lambda>(value)>),\n",
       " 'u16': (<function agb.types.<lambda>(rom, offset, parent, proj)>,\n",
       "  <function agb.types.<lambda>(value)>),\n",
       " 's16': (<function agb.types.<lambda>(rom, offset, parent, proj)>,\n",
       "  <function agb.types.<lambda>(value)>),\n",
       " 'u32': (<function agb.types.<lambda>(rom, offset, parent, proj)>,\n",
       "  <function agb.types.<lambda>(value)>),\n",
       " 'int': (<function agb.types.<lambda>(rom, offset, parent, proj)>,\n",
       "  <function agb.types.<lambda>(value)>),\n",
       " 'u16array[4]': (<function agb.types.make_array.<locals>.from_data(rom, offset, parent, proj)>,\n",
       "  <function agb.types.make_array.<locals>.to_assembly(value)>)}"
      ]
     },
     "execution_count": 7,
     "metadata": {},
     "output_type": "execute_result"
    }
   ],
   "source": [
    "proj = pymap.project.Project('proj.pmp')\n",
    "agb.types.types"
   ]
  },
  {
   "cell_type": "code",
   "execution_count": null,
   "metadata": {},
   "outputs": [],
   "source": []
  },
  {
   "cell_type": "code",
   "execution_count": null,
   "metadata": {},
   "outputs": [],
   "source": []
  }
 ],
 "metadata": {
  "kernelspec": {
   "display_name": "Python 3",
   "language": "python",
   "name": "python3"
  },
  "language_info": {
   "codemirror_mode": {
    "name": "ipython",
    "version": 3
   },
   "file_extension": ".py",
   "mimetype": "text/x-python",
   "name": "python",
   "nbconvert_exporter": "python",
   "pygments_lexer": "ipython3",
   "version": "3.6.3"
  }
 },
 "nbformat": 4,
 "nbformat_minor": 2
}
