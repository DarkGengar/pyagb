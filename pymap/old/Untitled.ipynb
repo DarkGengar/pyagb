{
 "cells": [
  {
   "cell_type": "code",
   "execution_count": 1,
   "metadata": {},
   "outputs": [],
   "source": [
    "import constants\n",
    "c = {'one' : 'test.const', 'two' : 'test2.const'}\n",
    "consts = constants.Constants(c)"
   ]
  },
  {
   "cell_type": "code",
   "execution_count": 2,
   "metadata": {},
   "outputs": [
    {
     "data": {
      "text/plain": [
       "16"
      ]
     },
     "execution_count": 2,
     "metadata": {},
     "output_type": "execute_result"
    }
   ],
   "source": [
    "consts['two']['C']"
   ]
  },
  {
   "cell_type": "code",
   "execution_count": 3,
   "metadata": {},
   "outputs": [
    {
     "data": {
      "text/plain": [
       "'Mein\\\\asdf\\\\asdf'"
      ]
     },
     "execution_count": 3,
     "metadata": {},
     "output_type": "execute_result"
    }
   ],
   "source": [
    "import os"
   ]
  },
  {
   "cell_type": "code",
   "execution_count": 4,
   "metadata": {},
   "outputs": [
    {
     "name": "stdout",
     "output_type": "stream",
     "text": [
      "/media/d/romhacking/Violet_Sources\n"
     ]
    }
   ],
   "source": [
    "cd /media/d/romhacking/Violet_Sources"
   ]
  },
  {
   "cell_type": "code",
   "execution_count": 12,
   "metadata": {},
   "outputs": [
    {
     "name": "stdout",
     "output_type": "stream",
     "text": [
      "/media/d/romhacking/Violet_Sources/constants\n"
     ]
    }
   ],
   "source": [
    "cd constants"
   ]
  },
  {
   "cell_type": "code",
   "execution_count": 15,
   "metadata": {},
   "outputs": [
    {
     "data": {
      "text/plain": [
       "['map_show_name_types.const',\n",
       " 'abilities.const',\n",
       " 'attacks.const',\n",
       " 'attack_affects_whom_flags.const',\n",
       " 'attack_categories.const',\n",
       " 'attack_flags.const',\n",
       " 'attack_results.const',\n",
       " 'battle_bgs.const',\n",
       " 'battle_effects.const',\n",
       " 'battle_weathers.const',\n",
       " 'block_hm_usage.const',\n",
       " 'callstds.const',\n",
       " 'egg_groups.const',\n",
       " 'evolution_methods.const',\n",
       " 'flags.const',\n",
       " 'items.const',\n",
       " 'item_pockets.const',\n",
       " 'map_adjacency_types.const',\n",
       " 'map_battle_styles.const',\n",
       " 'map_connections.const',\n",
       " 'map_flash_types.const',\n",
       " 'map_namespaces.const',\n",
       " 'map_types.const',\n",
       " 'map_weathers.const',\n",
       " 'movements.const',\n",
       " 'move_tutor.const',\n",
       " 'natures.const',\n",
       " 'ordinals.const',\n",
       " 'person_behaviours.const',\n",
       " 'pokemon_attributes.const',\n",
       " 'pokemon_language_ids.const',\n",
       " 'pokemon_shapes.const',\n",
       " 'pokemon_types.const',\n",
       " 'songs.const',\n",
       " 'species.const',\n",
       " 'time_types.const',\n",
       " 'trainerclasses.const',\n",
       " 'trainer_ai_flags.const',\n",
       " 'vars.const']"
      ]
     },
     "execution_count": 15,
     "metadata": {},
     "output_type": "execute_result"
    }
   ],
   "source": [
    "\n",
    "files = [f for f in os.listdir('.') if os.path.isfile(f)]\n",
    "files"
   ]
  },
  {
   "cell_type": "code",
   "execution_count": 17,
   "metadata": {},
   "outputs": [],
   "source": [
    "transformed = []\n",
    "for file in files:\n",
    "    with open(file) as f:\n",
    "        content = eval(f.read())\n",
    "    new = {\n",
    "        'type' : content['type'],\n",
    "        'values' : content['values']\n",
    "    }\n",
    "    if 'base' in content:\n",
    "        new['base'] = content['base']\n",
    "    transformed.append(new)"
   ]
  },
  {
   "cell_type": "code",
   "execution_count": 18,
   "metadata": {},
   "outputs": [
    {
     "data": {
      "text/plain": [
       "{'type': 'dict',\n",
       " 'values': {'DONT_SHOW': 0,\n",
       "  'SHOW': 1,\n",
       "  'MAP_SHOW_NAME_2': 2,\n",
       "  'MAP_SHOW_NAME_3': 3,\n",
       "  'MAP_SHOW_NAME_4': 4,\n",
       "  'MAP_SHOW_NAME_5': 5,\n",
       "  'SHOW_VILLAGE': 6,\n",
       "  'MAP_SHOW_NAME_7': 7,\n",
       "  'SHOW_CITY': 13}}"
      ]
     },
     "execution_count": 18,
     "metadata": {},
     "output_type": "execute_result"
    }
   ],
   "source": [
    "transformed[0]"
   ]
  },
  {
   "cell_type": "code",
   "execution_count": 19,
   "metadata": {},
   "outputs": [
    {
     "data": {
      "text/plain": [
       "'{\"type\": \"dict\", \"values\": {\"DONT_SHOW\": 0, \"SHOW\": 1, \"MAP_SHOW_NAME_2\": 2, \"MAP_SHOW_NAME_3\": 3, \"MAP_SHOW_NAME_4\": 4, \"MAP_SHOW_NAME_5\": 5, \"SHOW_VILLAGE\": 6, \"MAP_SHOW_NAME_7\": 7, \"SHOW_CITY\": 13}}'"
      ]
     },
     "execution_count": 19,
     "metadata": {},
     "output_type": "execute_result"
    }
   ],
   "source": [
    "import json\n",
    "json.dumps(transformed[0])"
   ]
  },
  {
   "cell_type": "code",
   "execution_count": 21,
   "metadata": {},
   "outputs": [],
   "source": [
    "for path, d in zip(files, transformed):\n",
    "    with open(path, 'w+') as f:\n",
    "        json.dump(d, f, indent='\\t')"
   ]
  },
  {
   "cell_type": "code",
   "execution_count": 23,
   "metadata": {},
   "outputs": [
    {
     "name": "stdout",
     "output_type": "stream",
     "text": [
      "/media/d/romhacking/Violet_Sources\n"
     ]
    }
   ],
   "source": [
    "cd .."
   ]
  },
  {
   "cell_type": "code",
   "execution_count": 32,
   "metadata": {},
   "outputs": [],
   "source": [
    "with open('proj.pmp.constants') as f:\n",
    "    c2 = {}\n",
    "    content = eval(f.read())\n",
    "    for key in content:\n",
    "        l = os.path.normpath(content[key]).split(os.path.sep)\n",
    "        c2[key] = l\n",
    "    "
   ]
  },
  {
   "cell_type": "code",
   "execution_count": 33,
   "metadata": {},
   "outputs": [
    {
     "data": {
      "text/plain": [
       "{'move_tutor': ['constants', 'move_tutor.const'],\n",
       " 'evolution_methods': ['constants', 'evolution_methods.const'],\n",
       " 'items': ['constants', 'items.const'],\n",
       " 'species': ['constants', 'species.const'],\n",
       " 'abilities': ['constants', 'abilities.const'],\n",
       " 'pokemon_types': ['constants', 'pokemon_types.const'],\n",
       " 'egg_groups': ['constants', 'egg_groups.const'],\n",
       " 'attacks': ['constants', 'attacks.const'],\n",
       " 'attack_affects_whom_flags': ['constants', 'attack_affects_whom_flags.const'],\n",
       " 'attack_flags': ['constants', 'attack_flags.const'],\n",
       " 'attack_categories': ['constants', 'attack_categories.const'],\n",
       " 'trainerclasses': ['constants', 'trainerclasses.const'],\n",
       " 'item_pockets': ['constants', 'item_pockets.const'],\n",
       " 'trainer_ai_flags': ['constants', 'trainer_ai_flags.const'],\n",
       " 'flags': ['constants', 'flags.const'],\n",
       " 'vars': ['constants', 'vars.const'],\n",
       " 'ordinals': ['constants', 'ordinals.const'],\n",
       " 'time_types': ['constants', 'time_types.const'],\n",
       " 'callstds': ['constants', 'callstds.const'],\n",
       " 'movements': ['constants', 'movements.const'],\n",
       " 'map_adjacency_types': ['constants', 'map_adjacency_types.const'],\n",
       " 'songs': ['constants', 'songs.const'],\n",
       " 'person_behaviours': ['constants', 'person_behaviours.const'],\n",
       " 'map_namespaces': ['constants', 'map_namespaces.const'],\n",
       " 'map_show_name_types': ['constants', 'map_show_name_types.const'],\n",
       " 'map_weathers': ['constants', 'map_weathers.const'],\n",
       " 'map_types': ['constants', 'map_types.const'],\n",
       " 'map_battle_styles': ['constants', 'map_battle_styles.const'],\n",
       " 'map_flash_types': ['constants', 'map_flash_types.const'],\n",
       " 'map_connections': ['constants', 'map_connections.const'],\n",
       " 'pokemon_shapes': ['constants', 'pokemon_shapes.const'],\n",
       " 'pokemon_language_ids': ['constants', 'pokemon_language_ids.const'],\n",
       " 'natures': ['constants', 'natures.const'],\n",
       " 'pokemon_attributes': ['constants', 'pokemon_attributes.const'],\n",
       " 'attack_results': ['constants', 'attack_results.const'],\n",
       " 'battle_weathers': ['constants', 'battle_weathers.const'],\n",
       " 'battle_bgs': ['constants', 'battle_bgs.const'],\n",
       " 'battle_effects': ['constants', 'battle_effects.const'],\n",
       " 'block_hm_usage': ['constants', 'block_hm_usage.const']}"
      ]
     },
     "execution_count": 33,
     "metadata": {},
     "output_type": "execute_result"
    }
   ],
   "source": [
    "c2"
   ]
  },
  {
   "cell_type": "code",
   "execution_count": 34,
   "metadata": {},
   "outputs": [],
   "source": [
    "with open('proj.pmp.constants', 'w+') as f:\n",
    "    json.dump(c2, f, indent='\\t')"
   ]
  },
  {
   "cell_type": "code",
   "execution_count": null,
   "metadata": {},
   "outputs": [],
   "source": []
  }
 ],
 "metadata": {
  "kernelspec": {
   "display_name": "Python 3",
   "language": "python",
   "name": "python3"
  },
  "language_info": {
   "codemirror_mode": {
    "name": "ipython",
    "version": 3
   },
   "file_extension": ".py",
   "mimetype": "text/x-python",
   "name": "python",
   "nbconvert_exporter": "python",
   "pygments_lexer": "ipython3",
   "version": "3.6.3"
  }
 },
 "nbformat": 4,
 "nbformat_minor": 2
}
